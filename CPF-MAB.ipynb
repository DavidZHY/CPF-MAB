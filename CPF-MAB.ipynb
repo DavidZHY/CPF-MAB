{
 "cells": [
  {
   "cell_type": "markdown",
   "metadata": {},
   "source": [
    "# CPF-MAB主代码\n",
    "- 让所有的客户端在一个组里面进行训练\n",
    "- 获取每个客户端的reward数组\n",
    "- 根据每个客户端的reward数组，使用K-Means算法进行分组，组数由肘部法则和公式确定\n",
    "- 根据分组结果，重新分配客户端到不同的组里面\n",
    "- 在每个组中训练客户端，直到迭代次数\n",
    "- 获取每个组的regret数组，加在一起获得最终的regret"
   ]
  },
  {
   "cell_type": "code",
   "execution_count": null,
   "metadata": {},
   "outputs": [],
   "source": [
    "import numpy as np\n",
    "import matplotlib.pyplot as plt\n",
    "from sklearn.cluster import KMeans\n",
    "\n",
    "from bandits import *\n",
    "from client import *\n",
    "from server import *"
   ]
  },
  {
   "cell_type": "markdown",
   "metadata": {},
   "source": [
    "### 设置所有需要的变量\n",
    "- `T`：总轮数\n",
    "- `T_EXPLORE`：分组前探索轮数\n",
    "- `alpha`：用于训练的超参数\n",
    "- `beta`：个性化倾向性参数\n",
    "- `M`：客户端数量\n",
    "- `K`：臂数量\n",
    "- `means`：每个客户端每个臂的均值（客户端数量×臂数量）\n",
    "- `fp(p)`：用于平衡全局和局部探索次数的函数"
   ]
  },
  {
   "cell_type": "code",
   "execution_count": null,
   "metadata": {},
   "outputs": [],
   "source": [
    "T = int(1e7)\n",
    "T_EXPLORE = int(1e5)\n",
    "alpha = 0.2\n",
    "beta = -1 # defined below\n",
    "# means = np.array([[1,   0,  0,  0,  0.9,    0.4,    0.35,   0.35,   0.5],\n",
    "#                   [0,   1,  0,  0,  0.3,    0.9,    0.35,   0.3,    0.5],\n",
    "#                   [0,   0,  1,  0,  0.35,   0.35,   0.9,    0.3,    0.5],\n",
    "#                   [0,   0,  0,  1,  0.4,    0.3,    0.35,   0.9,    0.5]])\n",
    "means = np.random.random((30, 5))\n",
    "# means = np.load('means/optimal_means.npy')\n",
    "\n",
    "M = means.shape[0]\n",
    "K = means.shape[1]\n",
    "np.save('means/latest_means.npy', means)\n",
    "print(f'means: {means}')\n",
    "print(f'Number of clients: {M}. Number of arms: {K}')\n",
    "def fp(p):\n",
    "    return 2**p*np.log(T)"
   ]
  },
  {
   "cell_type": "markdown",
   "metadata": {},
   "source": [
    "### 将所有的客户端放在一起，进行训练\n",
    "- 范围为所有客户端，初始化参数为全0，进行`T_EXPLORE`轮训练\n",
    "- 将这次的`regret`进行可视化"
   ]
  },
  {
   "cell_type": "code",
   "execution_count": null,
   "metadata": {},
   "outputs": [],
   "source": [
    "pfed_0 = PFEDUCB(fp,\n",
    "                 T_EXPLORE,\n",
    "                 means,\n",
    "                 alpha,\n",
    "                 c_local_mean=np.zeros((M, K)),\n",
    "                 c_global_mean=np.zeros((M, K)),\n",
    "                 c_mixed_mean=np.zeros((M, K)))\n",
    "mixed_regret_0, local_reward_0, global_reward_0, mixed_reward_0 = pfed_0.simulate()\n",
    "c_local_mean, c_global_mean, c_mixed_mean = pfed_0.get_clients_data()"
   ]
  },
  {
   "cell_type": "code",
   "execution_count": null,
   "metadata": {},
   "outputs": [],
   "source": [
    "end_round_of_plot = -1\n",
    "fig = plt.figure(1,figsize=(9,6))\n",
    "plt.plot(mixed_regret_0[:end_round_of_plot], label=str(alpha))\n",
    "plt.xlabel('$t$', fontsize=20)\n",
    "plt.ylabel('Regret', fontsize=20)\n",
    "plt.legend(fontsize=14)\n",
    "plt.grid(alpha=0.5)\n",
    "plt.show()"
   ]
  },
  {
   "cell_type": "markdown",
   "metadata": {},
   "source": [
    "### 根据local_mean对每个客户端进行分组\n",
    "- 根据不同分组数量计算`SSE`\n",
    "- 根据`肘部法则`和`二阶差分结果*组数`的数组确定最佳分组数量\n",
    "- 根据递推公式和个性化倾向性确定最终分组数量\n",
    "- 按照最终分组数量的设定，使用`K-Means`进行分组"
   ]
  },
  {
   "cell_type": "code",
   "execution_count": null,
   "metadata": {},
   "outputs": [],
   "source": [
    "sse = []\n",
    "k_range = range(1, M + 1)\n",
    "for k in k_range:\n",
    "    kmeans = KMeans(n_clusters=k, random_state=0).fit(c_local_mean)\n",
    "    sse.append(kmeans.inertia_)\n",
    "\n",
    "plt.figure(figsize=(8, 5))\n",
    "plt.plot(k_range, sse, marker='o')\n",
    "plt.xlabel('clusters')\n",
    "plt.ylabel('SSE')\n",
    "plt.title('Elbow Method for Optimal Clusters')\n",
    "plt.grid(True)\n",
    "plt.show()\n",
    "\n",
    "first_derivate = np.diff(sse)\n",
    "second_derivative = np.diff(first_derivate)\n",
    "clusters_data = second_derivative * (np.arange(len(second_derivative)) + 1)\n",
    "opt_clusters = np.argmax(clusters_data) + 1\n",
    "print(\"Optimal number of clusters:\", opt_clusters)\n",
    "print(f'First derivative: {first_derivate}')"
   ]
  },
  {
   "cell_type": "code",
   "execution_count": null,
   "metadata": {},
   "outputs": [],
   "source": [
    "if beta == -1: # if beta is not specified, using beta below\n",
    "    beta = 0.2\n",
    "\n",
    "nclusters = 1\n",
    "while True:\n",
    "    if nclusters == opt_clusters:\n",
    "        break\n",
    "    if beta * (first_derivate[nclusters] / min(first_derivate[nclusters:])) * (opt_clusters) + 1 > nclusters:\n",
    "        # Here, using min because first derivative is negative\n",
    "        nclusters += 1\n",
    "    else:\n",
    "        break\n",
    "print(f'Final number of clusters: {nclusters}, with beta value: {beta}, optimal clusters: {opt_clusters}')"
   ]
  },
  {
   "cell_type": "code",
   "execution_count": null,
   "metadata": {},
   "outputs": [],
   "source": [
    "kmeans = KMeans(n_clusters=nclusters, random_state=0).fit(c_local_mean)\n",
    "labels = kmeans.labels_\n",
    "print(f'分组结果: {labels}')"
   ]
  },
  {
   "cell_type": "markdown",
   "metadata": {},
   "source": [
    "### 根据分组情况按组训练\n",
    "- 将`means`数据按照分组进行划分，在dict中\n",
    "- 遍历每个组并训练模型`T - T_EXPLORE`次"
   ]
  },
  {
   "cell_type": "code",
   "execution_count": null,
   "metadata": {},
   "outputs": [],
   "source": [
    "init_data = {}\n",
    "for i in range(nclusters):\n",
    "    init_data[i] = {\n",
    "        'means': [],\n",
    "        'client_index': [],\n",
    "        'local_mean': [],\n",
    "        'global_mean': [],\n",
    "        'mixed_mean': []\n",
    "    }\n",
    "for i in range(M):\n",
    "    init_data[labels[i]]['means'].append(means[i])\n",
    "    init_data[labels[i]]['client_index'].append(i)\n",
    "    init_data[labels[i]]['local_mean'].append(c_local_mean[i])\n",
    "    init_data[labels[i]]['global_mean'].append(c_global_mean[i])\n",
    "    init_data[labels[i]]['mixed_mean'].append(c_mixed_mean[i])\n",
    "for i in range(nclusters):\n",
    "    init_data[i]['means'] = np.array(init_data[i]['means'])\n",
    "    init_data[i]['local_mean'] = np.array(init_data[i]['local_mean'])\n",
    "    init_data[i]['global_mean'] = np.array(init_data[i]['global_mean'])\n",
    "    init_data[i]['mixed_mean'] = np.array(init_data[i]['mixed_mean'])"
   ]
  },
  {
   "cell_type": "code",
   "execution_count": null,
   "metadata": {},
   "outputs": [],
   "source": [
    "pfed = []\n",
    "result = {}\n",
    "for cluster in range(nclusters):\n",
    "    print(f'Simulating cluster {cluster}')\n",
    "    pfed.append(PFEDUCB(fp,\n",
    "                        T - T_EXPLORE,\n",
    "                        init_data[cluster]['means'],\n",
    "                        alpha,\n",
    "                        init_data[cluster]['local_mean'],\n",
    "                        init_data[cluster]['global_mean'],\n",
    "                        init_data[cluster]['mixed_mean']))\n",
    "    mixed_regret, local_reward, global_reward, mixed_reward = pfed[-1].simulate()\n",
    "    result[cluster] = {\n",
    "        'mixed_regret': mixed_regret,\n",
    "        'local_reward': local_reward,\n",
    "        'global_reward': global_reward,\n",
    "        'mixed_reward': mixed_reward\n",
    "    }\n",
    "    del mixed_regret, local_reward, global_reward, mixed_reward"
   ]
  },
  {
   "cell_type": "markdown",
   "metadata": {},
   "source": [
    "### 根据每组的运行结果汇总regret等信息\n",
    "- 将每组的`mixed_regret`；`local_reward`；`global_reward`；`mixed_reward` 都加在一起\n",
    "- 将`mixed_regret`进行可视化"
   ]
  },
  {
   "cell_type": "code",
   "execution_count": null,
   "metadata": {},
   "outputs": [],
   "source": [
    "mixed_regret = np.zeros_like(result[0]['mixed_regret'])\n",
    "local_reward = np.zeros_like(result[0]['local_reward'])\n",
    "global_reward = np.zeros_like(result[0]['global_reward'])\n",
    "mixed_reward = np.zeros_like(result[0]['mixed_reward'])\n",
    "for cluster in range(nclusters):\n",
    "    mixed_regret += result[cluster]['mixed_regret']\n",
    "    local_reward += result[cluster]['local_reward']\n",
    "    global_reward += result[cluster]['global_reward']\n",
    "    mixed_reward += result[cluster]['mixed_reward']\n",
    "mixed_regret = mixed_regret + mixed_regret_0[-1]\n",
    "combined_mixed_regret = np.concatenate((mixed_regret_0, mixed_regret))"
   ]
  },
  {
   "cell_type": "code",
   "execution_count": null,
   "metadata": {},
   "outputs": [],
   "source": [
    "end_round_of_plot = -1\n",
    "fig = plt.figure(1,figsize=(9,6))\n",
    "plt.plot(combined_mixed_regret[:end_round_of_plot], label=f'alpha={alpha}')\n",
    "plt.xlabel('$t$', fontsize=20)\n",
    "plt.ylabel('Regret', fontsize=20)\n",
    "plt.legend(fontsize=14, loc='lower right')\n",
    "plt.grid(alpha=0.5)\n",
    "plt.show()"
   ]
  }
 ],
 "metadata": {
  "kernelspec": {
   "display_name": "MAB",
   "language": "python",
   "name": "python3"
  },
  "language_info": {
   "codemirror_mode": {
    "name": "ipython",
    "version": 3
   },
   "file_extension": ".py",
   "mimetype": "text/x-python",
   "name": "python",
   "nbconvert_exporter": "python",
   "pygments_lexer": "ipython3",
   "version": "3.7.16"
  }
 },
 "nbformat": 4,
 "nbformat_minor": 2
}
